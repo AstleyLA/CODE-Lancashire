{
 "cells": [
  {
   "cell_type": "markdown",
   "id": "d1e5a1ee",
   "metadata": {},
   "source": [
    "<h1>Tackling an open problem</h1>\n",
    "\n",
    "For this homework the idea is to hone our skills on exploring and plotting a dataset. You can either work with the Pokemon dataset that was given or download your own. If you opt to download your own I recommend you use one of the datasets available on kaggle,\n",
    "\n",
    "https://www.kaggle.com/datasets\n",
    "\n",
    "As they tend to be found in a clean format and are generally free to use.\n",
    "\n",
    "Largely, the main objective is learning how to search the internet for new implementations you want to use on your code helping you develop your self-confidence.\n",
    "\n",
    "There's no right or wrong, pick a dataset you enjoy and try to have some fun.\n",
    "If you need, use the notebook from the previous session as a guideline.\n"
   ]
  },
  {
   "cell_type": "code",
   "execution_count": 2,
   "id": "383c1464",
   "metadata": {},
   "outputs": [],
   "source": [
    "import pandas as pd\n",
    "import matplotlib.pyplot as plt\n",
    "import numpy as np"
   ]
  },
  {
   "cell_type": "code",
   "execution_count": 3,
   "id": "37294f7e",
   "metadata": {},
   "outputs": [
    {
     "name": "stderr",
     "output_type": "stream",
     "text": [
      "C:\\Users\\loisa\\AppData\\Local\\Temp\\ipykernel_17420\\3436896478.py:1: DtypeWarning: Columns (4) have mixed types. Specify dtype option on import or set low_memory=False.\n",
      "  billboard200_df = pd.read_csv(r\"C:\\Users\\loisa\\OneDrive\\Coding\\CODE Lancashire Python\\archive\\billboard200.csv\", sep=',')\n"
     ]
    }
   ],
   "source": [
    "billboard200_df = pd.read_csv(r\"C:\\Users\\loisa\\OneDrive\\Coding\\CODE Lancashire Python\\archive\\billboard200.csv\", sep=',')                     "
   ]
  },
  {
   "cell_type": "code",
   "execution_count": 4,
   "id": "1aba6f04",
   "metadata": {},
   "outputs": [
    {
     "data": {
      "text/html": [
       "<div>\n",
       "<style scoped>\n",
       "    .dataframe tbody tr th:only-of-type {\n",
       "        vertical-align: middle;\n",
       "    }\n",
       "\n",
       "    .dataframe tbody tr th {\n",
       "        vertical-align: top;\n",
       "    }\n",
       "\n",
       "    .dataframe thead th {\n",
       "        text-align: right;\n",
       "    }\n",
       "</style>\n",
       "<table border=\"1\" class=\"dataframe\">\n",
       "  <thead>\n",
       "    <tr style=\"text-align: right;\">\n",
       "      <th></th>\n",
       "      <th>Date</th>\n",
       "      <th>Song</th>\n",
       "      <th>Artist</th>\n",
       "      <th>Rank</th>\n",
       "      <th>Last Week</th>\n",
       "      <th>Peak Position</th>\n",
       "      <th>Weeks in Charts</th>\n",
       "      <th>Image URL</th>\n",
       "    </tr>\n",
       "  </thead>\n",
       "  <tbody>\n",
       "    <tr>\n",
       "      <th>0</th>\n",
       "      <td>1963-08-14</td>\n",
       "      <td>Days Of Wine And Roses</td>\n",
       "      <td>Andy Williams</td>\n",
       "      <td>1</td>\n",
       "      <td>1</td>\n",
       "      <td>1</td>\n",
       "      <td>-</td>\n",
       "      <td>https://charts-static.billboard.com/img/1963/0...</td>\n",
       "    </tr>\n",
       "    <tr>\n",
       "      <th>1</th>\n",
       "      <td>1963-08-14</td>\n",
       "      <td>Little Stevie Wonder/The 12 Year Old Genius</td>\n",
       "      <td>Stevie Wonder</td>\n",
       "      <td>2</td>\n",
       "      <td>2</td>\n",
       "      <td>1</td>\n",
       "      <td>-</td>\n",
       "      <td>https://charts-static.billboard.com/img/1963/0...</td>\n",
       "    </tr>\n",
       "    <tr>\n",
       "      <th>2</th>\n",
       "      <td>1963-08-14</td>\n",
       "      <td>West Side Story</td>\n",
       "      <td>Soundtrack</td>\n",
       "      <td>3</td>\n",
       "      <td>3</td>\n",
       "      <td>1</td>\n",
       "      <td>-</td>\n",
       "      <td>https://charts-static.billboard.com/img/1963/0...</td>\n",
       "    </tr>\n",
       "    <tr>\n",
       "      <th>3</th>\n",
       "      <td>1963-08-14</td>\n",
       "      <td>(Moving)</td>\n",
       "      <td>Peter| Paul &amp; Mary</td>\n",
       "      <td>4</td>\n",
       "      <td>4</td>\n",
       "      <td>1</td>\n",
       "      <td>-</td>\n",
       "      <td>#</td>\n",
       "    </tr>\n",
       "    <tr>\n",
       "      <th>4</th>\n",
       "      <td>1963-08-14</td>\n",
       "      <td>Trini Lopez At PJ's</td>\n",
       "      <td>Trini Lopez</td>\n",
       "      <td>5</td>\n",
       "      <td>5</td>\n",
       "      <td>1</td>\n",
       "      <td>-</td>\n",
       "      <td>https://charts-static.billboard.com/img/1963/0...</td>\n",
       "    </tr>\n",
       "  </tbody>\n",
       "</table>\n",
       "</div>"
      ],
      "text/plain": [
       "         Date                                         Song  \\\n",
       "0  1963-08-14                       Days Of Wine And Roses   \n",
       "1  1963-08-14  Little Stevie Wonder/The 12 Year Old Genius   \n",
       "2  1963-08-14                              West Side Story   \n",
       "3  1963-08-14                                     (Moving)   \n",
       "4  1963-08-14                          Trini Lopez At PJ's   \n",
       "\n",
       "               Artist  Rank Last Week  Peak Position Weeks in Charts  \\\n",
       "0       Andy Williams     1         1              1               -   \n",
       "1       Stevie Wonder     2         2              1               -   \n",
       "2          Soundtrack     3         3              1               -   \n",
       "3  Peter| Paul & Mary     4         4              1               -   \n",
       "4         Trini Lopez     5         5              1               -   \n",
       "\n",
       "                                           Image URL  \n",
       "0  https://charts-static.billboard.com/img/1963/0...  \n",
       "1  https://charts-static.billboard.com/img/1963/0...  \n",
       "2  https://charts-static.billboard.com/img/1963/0...  \n",
       "3                                                  #  \n",
       "4  https://charts-static.billboard.com/img/1963/0...  "
      ]
     },
     "execution_count": 4,
     "metadata": {},
     "output_type": "execute_result"
    }
   ],
   "source": [
    "# first 5 entries\n",
    "billboard200_df.head()"
   ]
  },
  {
   "cell_type": "code",
   "execution_count": 6,
   "id": "707121b0",
   "metadata": {},
   "outputs": [
    {
     "data": {
      "text/html": [
       "<div>\n",
       "<style scoped>\n",
       "    .dataframe tbody tr th:only-of-type {\n",
       "        vertical-align: middle;\n",
       "    }\n",
       "\n",
       "    .dataframe tbody tr th {\n",
       "        vertical-align: top;\n",
       "    }\n",
       "\n",
       "    .dataframe thead th {\n",
       "        text-align: right;\n",
       "    }\n",
       "</style>\n",
       "<table border=\"1\" class=\"dataframe\">\n",
       "  <thead>\n",
       "    <tr style=\"text-align: right;\">\n",
       "      <th></th>\n",
       "      <th>Date</th>\n",
       "      <th>Song</th>\n",
       "      <th>Artist</th>\n",
       "      <th>Rank</th>\n",
       "      <th>Last Week</th>\n",
       "      <th>Peak Position</th>\n",
       "      <th>Weeks in Charts</th>\n",
       "      <th>Image URL</th>\n",
       "    </tr>\n",
       "  </thead>\n",
       "  <tbody>\n",
       "    <tr>\n",
       "      <th>621452</th>\n",
       "      <td>2024-01-24</td>\n",
       "      <td>Evolve</td>\n",
       "      <td>Imagine Dragons</td>\n",
       "      <td>196</td>\n",
       "      <td>2</td>\n",
       "      <td>312</td>\n",
       "      <td>-</td>\n",
       "      <td>https://charts-static.billboard.com/img/2017/0...</td>\n",
       "    </tr>\n",
       "    <tr>\n",
       "      <th>621453</th>\n",
       "      <td>2024-01-24</td>\n",
       "      <td>2nd EP 'Get Up'</td>\n",
       "      <td>NewJeans</td>\n",
       "      <td>197</td>\n",
       "      <td>176</td>\n",
       "      <td>1</td>\n",
       "      <td>26</td>\n",
       "      <td>https://charts-static.billboard.com/img/2023/0...</td>\n",
       "    </tr>\n",
       "    <tr>\n",
       "      <th>621454</th>\n",
       "      <td>2024-01-24</td>\n",
       "      <td>Fuck The World</td>\n",
       "      <td>Brent Faiyaz</td>\n",
       "      <td>198</td>\n",
       "      <td>20</td>\n",
       "      <td>33</td>\n",
       "      <td>-</td>\n",
       "      <td>https://charts-static.billboard.com/img/2020/0...</td>\n",
       "    </tr>\n",
       "    <tr>\n",
       "      <th>621455</th>\n",
       "      <td>2024-01-24</td>\n",
       "      <td>Greatest Hits</td>\n",
       "      <td>Creed</td>\n",
       "      <td>199</td>\n",
       "      <td>15</td>\n",
       "      <td>89</td>\n",
       "      <td>-</td>\n",
       "      <td>https://charts-static.billboard.com/img/2004/1...</td>\n",
       "    </tr>\n",
       "    <tr>\n",
       "      <th>621456</th>\n",
       "      <td>2024-01-24</td>\n",
       "      <td>Set It Off</td>\n",
       "      <td>Offset</td>\n",
       "      <td>200</td>\n",
       "      <td>187</td>\n",
       "      <td>5</td>\n",
       "      <td>11</td>\n",
       "      <td>https://charts-static.billboard.com/img/2023/1...</td>\n",
       "    </tr>\n",
       "  </tbody>\n",
       "</table>\n",
       "</div>"
      ],
      "text/plain": [
       "              Date             Song           Artist  Rank Last Week  \\\n",
       "621452  2024-01-24           Evolve  Imagine Dragons   196         2   \n",
       "621453  2024-01-24  2nd EP 'Get Up'         NewJeans   197       176   \n",
       "621454  2024-01-24   Fuck The World     Brent Faiyaz   198        20   \n",
       "621455  2024-01-24    Greatest Hits            Creed   199        15   \n",
       "621456  2024-01-24       Set It Off           Offset   200       187   \n",
       "\n",
       "        Peak Position Weeks in Charts  \\\n",
       "621452            312               -   \n",
       "621453              1              26   \n",
       "621454             33               -   \n",
       "621455             89               -   \n",
       "621456              5              11   \n",
       "\n",
       "                                                Image URL  \n",
       "621452  https://charts-static.billboard.com/img/2017/0...  \n",
       "621453  https://charts-static.billboard.com/img/2023/0...  \n",
       "621454  https://charts-static.billboard.com/img/2020/0...  \n",
       "621455  https://charts-static.billboard.com/img/2004/1...  \n",
       "621456  https://charts-static.billboard.com/img/2023/1...  "
      ]
     },
     "execution_count": 6,
     "metadata": {},
     "output_type": "execute_result"
    }
   ],
   "source": [
    "# most recent 5 entries\n",
    "billboard200_df.tail()"
   ]
  },
  {
   "cell_type": "code",
   "execution_count": null,
   "id": "08a73aee",
   "metadata": {},
   "outputs": [],
   "source": [
    "# getting rid of the image URL column because it is not relevant\n",
    "billboard200_df.drop([\"Image URL\"], axis=1, inplace=True)"
   ]
  },
  {
   "cell_type": "code",
   "execution_count": 19,
   "id": "c8d0b907",
   "metadata": {},
   "outputs": [
    {
     "data": {
      "text/plain": [
       "array(['Andy Williams', 'Stevie Wonder', 'Soundtrack', ...,\n",
       "       'Lil Durk & Various Artists', 'The Philly Specials',\n",
       "       'Luis R Conriquez'], dtype=object)"
      ]
     },
     "execution_count": 19,
     "metadata": {},
     "output_type": "execute_result"
    }
   ],
   "source": [
    "# tried to look at artists who only appear in the Billboard200 once\n",
    "billboard200_df['Artist'].unique()"
   ]
  },
  {
   "cell_type": "code",
   "execution_count": 20,
   "id": "2c3f2d78",
   "metadata": {},
   "outputs": [
    {
     "data": {
      "text/plain": [
       "array(['Days Of Wine And Roses',\n",
       "       'Little Stevie Wonder/The 12 Year Old Genius', 'West Side Story',\n",
       "       ..., 'Orquideas', 'Insano', 'Mean Girls (2024)'], dtype=object)"
      ]
     },
     "execution_count": 20,
     "metadata": {},
     "output_type": "execute_result"
    }
   ],
   "source": [
    "# tried to look at songs that only appear once\n",
    "billboard200_df['Song'].unique()"
   ]
  },
  {
   "cell_type": "code",
   "execution_count": 30,
   "id": "1a6998cd",
   "metadata": {},
   "outputs": [
    {
     "data": {
      "text/plain": [
       "984"
      ]
     },
     "execution_count": 30,
     "metadata": {},
     "output_type": "execute_result"
    }
   ],
   "source": [
    "# Something seemed wrong with the artists who only appear once, so I looked up how many times Stevie Wonder appears, since it tries to say only once.\n",
    "desired_artist = 'Stevie Wonder'\n",
    "(billboard200_df['Artist'] == desired_artist).sum()\n",
    "# this gives the answer 984 so there is something wrong with the .unique() I wrote earlier"
   ]
  },
  {
   "cell_type": "code",
   "execution_count": 25,
   "id": "35f22c17",
   "metadata": {},
   "outputs": [
    {
     "data": {
      "text/plain": [
       "Artist\n",
       "Soundtrack            25876\n",
       "Various Artists       14775\n",
       "The Beatles            3254\n",
       "Drake                  2751\n",
       "Taylor Swift           2676\n",
       "                      ...  \n",
       "The Rentals               1\n",
       "Greensky Bluegrass        1\n",
       "P Reign                   1\n",
       "N.A.S.A.                  1\n",
       "Vestal Goodman            1\n",
       "Name: count, Length: 10227, dtype: int64"
      ]
     },
     "execution_count": 25,
     "metadata": {},
     "output_type": "execute_result"
    }
   ],
   "source": [
    "# looking at how many times each artist appears in the Billboard200\n",
    "billboard200_df['Artist'].value_counts()\n"
   ]
  }
 ],
 "metadata": {
  "kernelspec": {
   "display_name": "Python 3 (ipykernel)",
   "language": "python",
   "name": "python3"
  },
  "language_info": {
   "codemirror_mode": {
    "name": "ipython",
    "version": 3
   },
   "file_extension": ".py",
   "mimetype": "text/x-python",
   "name": "python",
   "nbconvert_exporter": "python",
   "pygments_lexer": "ipython3",
   "version": "3.11.5"
  }
 },
 "nbformat": 4,
 "nbformat_minor": 5
}
